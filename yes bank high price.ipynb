{
  "cells": [
    {
      "cell_type": "code",
      "execution_count": 64,
      "id": "cc0ffa26",
      "metadata": {
        "id": "cc0ffa26"
      },
      "outputs": [],
      "source": [
        "import numpy as np\n",
        "import pandas as pd\n",
        "import matplotlib.pyplot as plt"
      ]
    },
    {
      "cell_type": "code",
      "execution_count": 65,
      "id": "a45b9ed7",
      "metadata": {
        "colab": {
          "base_uri": "https://localhost:8080/",
          "height": 206
        },
        "id": "a45b9ed7",
        "outputId": "14ae9fb2-4ac7-4824-dc2d-aae9814635e7"
      },
      "outputs": [
        {
          "output_type": "execute_result",
          "data": {
            "text/plain": [
              "     Date   Open   High    Low  Close\n",
              "0  Jul-05  13.00  14.00  11.25  12.46\n",
              "1  Aug-05  12.58  14.88  12.55  13.42\n",
              "2  Sep-05  13.48  14.87  12.27  13.30\n",
              "3  Oct-05  13.20  14.47  12.40  12.99\n",
              "4  Nov-05  13.35  13.88  12.88  13.41"
            ],
            "text/html": [
              "\n",
              "\n",
              "  <div id=\"df-8e31191d-c6d7-42f7-aea1-fe3523f8c70c\">\n",
              "    <div class=\"colab-df-container\">\n",
              "      <div>\n",
              "<style scoped>\n",
              "    .dataframe tbody tr th:only-of-type {\n",
              "        vertical-align: middle;\n",
              "    }\n",
              "\n",
              "    .dataframe tbody tr th {\n",
              "        vertical-align: top;\n",
              "    }\n",
              "\n",
              "    .dataframe thead th {\n",
              "        text-align: right;\n",
              "    }\n",
              "</style>\n",
              "<table border=\"1\" class=\"dataframe\">\n",
              "  <thead>\n",
              "    <tr style=\"text-align: right;\">\n",
              "      <th></th>\n",
              "      <th>Date</th>\n",
              "      <th>Open</th>\n",
              "      <th>High</th>\n",
              "      <th>Low</th>\n",
              "      <th>Close</th>\n",
              "    </tr>\n",
              "  </thead>\n",
              "  <tbody>\n",
              "    <tr>\n",
              "      <th>0</th>\n",
              "      <td>Jul-05</td>\n",
              "      <td>13.00</td>\n",
              "      <td>14.00</td>\n",
              "      <td>11.25</td>\n",
              "      <td>12.46</td>\n",
              "    </tr>\n",
              "    <tr>\n",
              "      <th>1</th>\n",
              "      <td>Aug-05</td>\n",
              "      <td>12.58</td>\n",
              "      <td>14.88</td>\n",
              "      <td>12.55</td>\n",
              "      <td>13.42</td>\n",
              "    </tr>\n",
              "    <tr>\n",
              "      <th>2</th>\n",
              "      <td>Sep-05</td>\n",
              "      <td>13.48</td>\n",
              "      <td>14.87</td>\n",
              "      <td>12.27</td>\n",
              "      <td>13.30</td>\n",
              "    </tr>\n",
              "    <tr>\n",
              "      <th>3</th>\n",
              "      <td>Oct-05</td>\n",
              "      <td>13.20</td>\n",
              "      <td>14.47</td>\n",
              "      <td>12.40</td>\n",
              "      <td>12.99</td>\n",
              "    </tr>\n",
              "    <tr>\n",
              "      <th>4</th>\n",
              "      <td>Nov-05</td>\n",
              "      <td>13.35</td>\n",
              "      <td>13.88</td>\n",
              "      <td>12.88</td>\n",
              "      <td>13.41</td>\n",
              "    </tr>\n",
              "  </tbody>\n",
              "</table>\n",
              "</div>\n",
              "      <button class=\"colab-df-convert\" onclick=\"convertToInteractive('df-8e31191d-c6d7-42f7-aea1-fe3523f8c70c')\"\n",
              "              title=\"Convert this dataframe to an interactive table.\"\n",
              "              style=\"display:none;\">\n",
              "\n",
              "  <svg xmlns=\"http://www.w3.org/2000/svg\" height=\"24px\"viewBox=\"0 0 24 24\"\n",
              "       width=\"24px\">\n",
              "    <path d=\"M0 0h24v24H0V0z\" fill=\"none\"/>\n",
              "    <path d=\"M18.56 5.44l.94 2.06.94-2.06 2.06-.94-2.06-.94-.94-2.06-.94 2.06-2.06.94zm-11 1L8.5 8.5l.94-2.06 2.06-.94-2.06-.94L8.5 2.5l-.94 2.06-2.06.94zm10 10l.94 2.06.94-2.06 2.06-.94-2.06-.94-.94-2.06-.94 2.06-2.06.94z\"/><path d=\"M17.41 7.96l-1.37-1.37c-.4-.4-.92-.59-1.43-.59-.52 0-1.04.2-1.43.59L10.3 9.45l-7.72 7.72c-.78.78-.78 2.05 0 2.83L4 21.41c.39.39.9.59 1.41.59.51 0 1.02-.2 1.41-.59l7.78-7.78 2.81-2.81c.8-.78.8-2.07 0-2.86zM5.41 20L4 18.59l7.72-7.72 1.47 1.35L5.41 20z\"/>\n",
              "  </svg>\n",
              "      </button>\n",
              "\n",
              "\n",
              "\n",
              "    <div id=\"df-9db3ff31-e011-4139-b02a-2a926563e6dc\">\n",
              "      <button class=\"colab-df-quickchart\" onclick=\"quickchart('df-9db3ff31-e011-4139-b02a-2a926563e6dc')\"\n",
              "              title=\"Suggest charts.\"\n",
              "              style=\"display:none;\">\n",
              "\n",
              "<svg xmlns=\"http://www.w3.org/2000/svg\" height=\"24px\"viewBox=\"0 0 24 24\"\n",
              "     width=\"24px\">\n",
              "    <g>\n",
              "        <path d=\"M19 3H5c-1.1 0-2 .9-2 2v14c0 1.1.9 2 2 2h14c1.1 0 2-.9 2-2V5c0-1.1-.9-2-2-2zM9 17H7v-7h2v7zm4 0h-2V7h2v10zm4 0h-2v-4h2v4z\"/>\n",
              "    </g>\n",
              "</svg>\n",
              "      </button>\n",
              "    </div>\n",
              "\n",
              "<style>\n",
              "  .colab-df-quickchart {\n",
              "    background-color: #E8F0FE;\n",
              "    border: none;\n",
              "    border-radius: 50%;\n",
              "    cursor: pointer;\n",
              "    display: none;\n",
              "    fill: #1967D2;\n",
              "    height: 32px;\n",
              "    padding: 0 0 0 0;\n",
              "    width: 32px;\n",
              "  }\n",
              "\n",
              "  .colab-df-quickchart:hover {\n",
              "    background-color: #E2EBFA;\n",
              "    box-shadow: 0px 1px 2px rgba(60, 64, 67, 0.3), 0px 1px 3px 1px rgba(60, 64, 67, 0.15);\n",
              "    fill: #174EA6;\n",
              "  }\n",
              "\n",
              "  [theme=dark] .colab-df-quickchart {\n",
              "    background-color: #3B4455;\n",
              "    fill: #D2E3FC;\n",
              "  }\n",
              "\n",
              "  [theme=dark] .colab-df-quickchart:hover {\n",
              "    background-color: #434B5C;\n",
              "    box-shadow: 0px 1px 3px 1px rgba(0, 0, 0, 0.15);\n",
              "    filter: drop-shadow(0px 1px 2px rgba(0, 0, 0, 0.3));\n",
              "    fill: #FFFFFF;\n",
              "  }\n",
              "</style>\n",
              "\n",
              "    <script>\n",
              "      async function quickchart(key) {\n",
              "        const containerElement = document.querySelector('#' + key);\n",
              "        const charts = await google.colab.kernel.invokeFunction(\n",
              "            'suggestCharts', [key], {});\n",
              "      }\n",
              "    </script>\n",
              "\n",
              "      <script>\n",
              "\n",
              "function displayQuickchartButton(domScope) {\n",
              "  let quickchartButtonEl =\n",
              "    domScope.querySelector('#df-9db3ff31-e011-4139-b02a-2a926563e6dc button.colab-df-quickchart');\n",
              "  quickchartButtonEl.style.display =\n",
              "    google.colab.kernel.accessAllowed ? 'block' : 'none';\n",
              "}\n",
              "\n",
              "        displayQuickchartButton(document);\n",
              "      </script>\n",
              "      <style>\n",
              "    .colab-df-container {\n",
              "      display:flex;\n",
              "      flex-wrap:wrap;\n",
              "      gap: 12px;\n",
              "    }\n",
              "\n",
              "    .colab-df-convert {\n",
              "      background-color: #E8F0FE;\n",
              "      border: none;\n",
              "      border-radius: 50%;\n",
              "      cursor: pointer;\n",
              "      display: none;\n",
              "      fill: #1967D2;\n",
              "      height: 32px;\n",
              "      padding: 0 0 0 0;\n",
              "      width: 32px;\n",
              "    }\n",
              "\n",
              "    .colab-df-convert:hover {\n",
              "      background-color: #E2EBFA;\n",
              "      box-shadow: 0px 1px 2px rgba(60, 64, 67, 0.3), 0px 1px 3px 1px rgba(60, 64, 67, 0.15);\n",
              "      fill: #174EA6;\n",
              "    }\n",
              "\n",
              "    [theme=dark] .colab-df-convert {\n",
              "      background-color: #3B4455;\n",
              "      fill: #D2E3FC;\n",
              "    }\n",
              "\n",
              "    [theme=dark] .colab-df-convert:hover {\n",
              "      background-color: #434B5C;\n",
              "      box-shadow: 0px 1px 3px 1px rgba(0, 0, 0, 0.15);\n",
              "      filter: drop-shadow(0px 1px 2px rgba(0, 0, 0, 0.3));\n",
              "      fill: #FFFFFF;\n",
              "    }\n",
              "  </style>\n",
              "\n",
              "      <script>\n",
              "        const buttonEl =\n",
              "          document.querySelector('#df-8e31191d-c6d7-42f7-aea1-fe3523f8c70c button.colab-df-convert');\n",
              "        buttonEl.style.display =\n",
              "          google.colab.kernel.accessAllowed ? 'block' : 'none';\n",
              "\n",
              "        async function convertToInteractive(key) {\n",
              "          const element = document.querySelector('#df-8e31191d-c6d7-42f7-aea1-fe3523f8c70c');\n",
              "          const dataTable =\n",
              "            await google.colab.kernel.invokeFunction('convertToInteractive',\n",
              "                                                     [key], {});\n",
              "          if (!dataTable) return;\n",
              "\n",
              "          const docLinkHtml = 'Like what you see? Visit the ' +\n",
              "            '<a target=\"_blank\" href=https://colab.research.google.com/notebooks/data_table.ipynb>data table notebook</a>'\n",
              "            + ' to learn more about interactive tables.';\n",
              "          element.innerHTML = '';\n",
              "          dataTable['output_type'] = 'display_data';\n",
              "          await google.colab.output.renderOutput(dataTable, element);\n",
              "          const docLink = document.createElement('div');\n",
              "          docLink.innerHTML = docLinkHtml;\n",
              "          element.appendChild(docLink);\n",
              "        }\n",
              "      </script>\n",
              "    </div>\n",
              "  </div>\n"
            ]
          },
          "metadata": {},
          "execution_count": 65
        }
      ],
      "source": [
        "df = pd.read_csv(\"/content/YesBank_StockPrices.csv\")\n",
        "df.head()\n"
      ]
    },
    {
      "cell_type": "code",
      "execution_count": 210,
      "id": "0efdca56",
      "metadata": {
        "colab": {
          "base_uri": "https://localhost:8080/"
        },
        "id": "0efdca56",
        "outputId": "134a867c-f491-4e93-8ba4-a000388d9044"
      },
      "outputs": [
        {
          "output_type": "execute_result",
          "data": {
            "text/plain": [
              "0      14.00\n",
              "1      14.88\n",
              "2      14.87\n",
              "3      14.47\n",
              "4      13.88\n",
              "       ...  \n",
              "180    28.30\n",
              "181    17.16\n",
              "182    15.34\n",
              "183    14.01\n",
              "184    14.90\n",
              "Name: High, Length: 185, dtype: float64"
            ]
          },
          "metadata": {},
          "execution_count": 210
        }
      ],
      "source": [
        "df1=df.reset_index()['High']\n",
        "df1"
      ]
    },
    {
      "cell_type": "code",
      "execution_count": 211,
      "id": "d4e267dd",
      "metadata": {
        "colab": {
          "base_uri": "https://localhost:8080/",
          "height": 447
        },
        "id": "d4e267dd",
        "outputId": "e176a337-c810-42b6-bd8d-a1701ce2ba17"
      },
      "outputs": [
        {
          "output_type": "execute_result",
          "data": {
            "text/plain": [
              "[<matplotlib.lines.Line2D at 0x7f80ec5311e0>]"
            ]
          },
          "metadata": {},
          "execution_count": 211
        },
        {
          "output_type": "display_data",
          "data": {
            "text/plain": [
              "<Figure size 640x480 with 1 Axes>"
            ],
            "image/png": "[encoded data removed]"
          },
          "metadata": {}
        }
      ],
      "source": [
        "plt.plot(df1)\n"
      ]
    },
    {
      "cell_type": "code",
      "execution_count": 212,
      "id": "e6e1cb7a",
      "metadata": {
        "colab": {
          "base_uri": "https://localhost:8080/"
        },
        "id": "e6e1cb7a",
        "outputId": "ab5af2c3-9662-4330-c9a9-a423037e4bd9"
      },
      "outputs": [
        {
          "output_type": "execute_result",
          "data": {
            "text/plain": [
              "0      14.00\n",
              "1      14.88\n",
              "2      14.87\n",
              "3      14.47\n",
              "4      13.88\n",
              "       ...  \n",
              "180    28.30\n",
              "181    17.16\n",
              "182    15.34\n",
              "183    14.01\n",
              "184    14.90\n",
              "Name: High, Length: 185, dtype: float64"
            ]
          },
          "metadata": {},
          "execution_count": 212
        }
      ],
      "source": [
        "df1"
      ]
    },
    {
      "cell_type": "code",
      "execution_count": 213,
      "id": "79fca986",
      "metadata": {
        "colab": {
          "base_uri": "https://localhost:8080/"
        },
        "id": "79fca986",
        "outputId": "190b803b-c83b-4853-b4c4-8a9d914814ee"
      },
      "outputs": [
        {
          "output_type": "stream",
          "name": "stdout",
          "text": [
            "[[0.00702719]\n",
            " [0.00926775]\n",
            " [0.00924229]\n",
            " [0.00822385]\n",
            " [0.00672166]\n",
            " [0.00814747]\n",
            " [0.01507282]\n",
            " [0.01458906]\n",
            " [0.02472248]\n",
            " [0.02434056]\n",
            " [0.02688665]\n",
            " [0.01822996]\n",
            " [0.01517466]\n",
            " [0.01873918]\n",
            " [0.01945208]\n",
            " [0.03299725]\n",
            " [0.04386903]\n",
            " [0.04689887]\n",
            " [0.05835625]\n",
            " [0.05438436]\n",
            " [0.05178735]\n",
            " [0.05283125]\n",
            " [0.06339749]\n",
            " [0.06400855]\n",
            " [0.07587331]\n",
            " [0.0706793 ]\n",
            " [0.07768103]\n",
            " [0.09181179]\n",
            " [0.10118138]\n",
            " [0.10887056]\n",
            " [0.11284245]\n",
            " [0.10879417]\n",
            " [0.09588553]\n",
            " [0.06253183]\n",
            " [0.0652816 ]\n",
            " [0.05341684]\n",
            " [0.04903758]\n",
            " [0.04516753]\n",
            " [0.04725532]\n",
            " [0.03503412]\n",
            " [0.01670231]\n",
            " [0.01354517]\n",
            " [0.0180772 ]\n",
            " [0.00320807]\n",
            " [0.        ]\n",
            " [0.01596395]\n",
            " [0.04481108]\n",
            " [0.05051431]\n",
            " [0.05581016]\n",
            " [0.06095325]\n",
            " [0.07653529]\n",
            " [0.10464406]\n",
            " [0.11136572]\n",
            " [0.11312252]\n",
            " [0.11798554]\n",
            " [0.10245443]\n",
            " [0.10393115]\n",
            " [0.1228231 ]\n",
            " [0.11925858]\n",
            " [0.12389245]\n",
            " [0.12654038]\n",
            " [0.14675629]\n",
            " [0.15403809]\n",
            " [0.16488441]\n",
            " [0.16895814]\n",
            " [0.14543233]\n",
            " [0.1331602 ]\n",
            " [0.11826561]\n",
            " [0.1373867 ]\n",
            " [0.14517772]\n",
            " [0.12842448]\n",
            " [0.13277829]\n",
            " [0.14451573]\n",
            " [0.13422955]\n",
            " [0.12435075]\n",
            " [0.13636827]\n",
            " [0.13356757]\n",
            " [0.12363784]\n",
            " [0.14069661]\n",
            " [0.16182911]\n",
            " [0.16967105]\n",
            " [0.16513902]\n",
            " [0.15111009]\n",
            " [0.15113555]\n",
            " [0.15772991]\n",
            " [0.16177819]\n",
            " [0.16918729]\n",
            " [0.1857623 ]\n",
            " [0.19951115]\n",
            " [0.21326001]\n",
            " [0.24381302]\n",
            " [0.24584988]\n",
            " [0.22637234]\n",
            " [0.23057338]\n",
            " [0.25      ]\n",
            " [0.23347591]\n",
            " [0.22700886]\n",
            " [0.14403198]\n",
            " [0.1723699 ]\n",
            " [0.16600468]\n",
            " [0.16811793]\n",
            " [0.182707  ]\n",
            " [0.16577554]\n",
            " [0.13102149]\n",
            " [0.18362359]\n",
            " [0.21320908]\n",
            " [0.27080151]\n",
            " [0.27072512]\n",
            " [0.2628068 ]\n",
            " [0.27357674]\n",
            " [0.29435279]\n",
            " [0.32223241]\n",
            " [0.33778898]\n",
            " [0.36602505]\n",
            " [0.42713107]\n",
            " [0.41409512]\n",
            " [0.43476932]\n",
            " [0.41134535]\n",
            " [0.42193706]\n",
            " [0.42814951]\n",
            " [0.41842346]\n",
            " [0.40215399]\n",
            " [0.3672981 ]\n",
            " [0.36841837]\n",
            " [0.37356146]\n",
            " [0.36480293]\n",
            " [0.35304002]\n",
            " [0.37328139]\n",
            " [0.41725227]\n",
            " [0.45625827]\n",
            " [0.5035136 ]\n",
            " [0.53915877]\n",
            " [0.60072309]\n",
            " [0.67155515]\n",
            " [0.70974641]\n",
            " [0.64736735]\n",
            " [0.64028924]\n",
            " [0.59517262]\n",
            " [0.69525919]\n",
            " [0.7204145 ]\n",
            " [0.76466544]\n",
            " [0.8130665 ]\n",
            " [0.8123536 ]\n",
            " [0.75134942]\n",
            " [0.91852531]\n",
            " [0.90966494]\n",
            " [0.94716875]\n",
            " [0.92807312]\n",
            " [0.81108056]\n",
            " [0.78358285]\n",
            " [0.9032488 ]\n",
            " [0.90452185]\n",
            " [0.80089622]\n",
            " [0.91025053]\n",
            " [0.89917507]\n",
            " [0.86276607]\n",
            " [0.9728842 ]\n",
            " [1.        ]\n",
            " [0.86251146]\n",
            " [0.6548783 ]\n",
            " [0.56054588]\n",
            " [0.46608616]\n",
            " [0.57302169]\n",
            " [0.57454934]\n",
            " [0.68759548]\n",
            " [0.69930747]\n",
            " [0.42471229]\n",
            " [0.36296975]\n",
            " [0.25297892]\n",
            " [0.20664019]\n",
            " [0.15610042]\n",
            " [0.16653936]\n",
            " [0.16322945]\n",
            " [0.15088095]\n",
            " [0.09486709]\n",
            " [0.07500764]\n",
            " [0.19531011]\n",
            " [0.04891028]\n",
            " [0.05183827]\n",
            " [0.0527294 ]\n",
            " [0.0434362 ]\n",
            " [0.01507282]\n",
            " [0.01043894]\n",
            " [0.00705265]\n",
            " [0.00931867]]\n"
          ]
        }
      ],
      "source": [
        "from sklearn.preprocessing import MinMaxScaler\n",
        "scaler=MinMaxScaler(feature_range=(0,1))\n",
        "df1=scaler.fit_transform(np.array(df1).reshape(-1,1))\n",
        "\n",
        "print(df1)"
      ]
    },
    {
      "cell_type": "code",
      "execution_count": 214,
      "id": "44dc3492",
      "metadata": {
        "id": "44dc3492"
      },
      "outputs": [],
      "source": [
        "training_size=int(len(df1)*0.65)\n",
        "test_size=len(df1)-training_size\n",
        "train_data,test_data=df1[0:training_size,:],df1[training_size:len(df1),:1]"
      ]
    },
    {
      "cell_type": "code",
      "execution_count": 215,
      "id": "128e9ca4",
      "metadata": {
        "colab": {
          "base_uri": "https://localhost:8080/"
        },
        "id": "128e9ca4",
        "outputId": "a853e232-9d45-4653-c655-8ba412b185ed"
      },
      "outputs": [
        {
          "output_type": "execute_result",
          "data": {
            "text/plain": [
              "(120, 65)"
            ]
          },
          "metadata": {},
          "execution_count": 215
        }
      ],
      "source": [
        "training_size,test_size"
      ]
    },
    {
      "cell_type": "code",
      "execution_count": 216,
      "id": "b6c78d13",
      "metadata": {
        "colab": {
          "base_uri": "https://localhost:8080/"
        },
        "id": "b6c78d13",
        "outputId": "d0220ae6-09fe-41c6-8f80-98e9a4e4c69f"
      },
      "outputs": [
        {
          "output_type": "execute_result",
          "data": {
            "text/plain": [
              "array([[0.00702719],\n",
              "       [0.00926775],\n",
              "       [0.00924229],\n",
              "       [0.00822385],\n",
              "       [0.00672166],\n",
              "       [0.00814747],\n",
              "       [0.01507282],\n",
              "       [0.01458906],\n",
              "       [0.02472248],\n",
              "       [0.02434056],\n",
              "       [0.02688665],\n",
              "       [0.01822996],\n",
              "       [0.01517466],\n",
              "       [0.01873918],\n",
              "       [0.01945208],\n",
              "       [0.03299725],\n",
              "       [0.04386903],\n",
              "       [0.04689887],\n",
              "       [0.05835625],\n",
              "       [0.05438436],\n",
              "       [0.05178735],\n",
              "       [0.05283125],\n",
              "       [0.06339749],\n",
              "       [0.06400855],\n",
              "       [0.07587331],\n",
              "       [0.0706793 ],\n",
              "       [0.07768103],\n",
              "       [0.09181179],\n",
              "       [0.10118138],\n",
              "       [0.10887056],\n",
              "       [0.11284245],\n",
              "       [0.10879417],\n",
              "       [0.09588553],\n",
              "       [0.06253183],\n",
              "       [0.0652816 ],\n",
              "       [0.05341684],\n",
              "       [0.04903758],\n",
              "       [0.04516753],\n",
              "       [0.04725532],\n",
              "       [0.03503412],\n",
              "       [0.01670231],\n",
              "       [0.01354517],\n",
              "       [0.0180772 ],\n",
              "       [0.00320807],\n",
              "       [0.        ],\n",
              "       [0.01596395],\n",
              "       [0.04481108],\n",
              "       [0.05051431],\n",
              "       [0.05581016],\n",
              "       [0.06095325],\n",
              "       [0.07653529],\n",
              "       [0.10464406],\n",
              "       [0.11136572],\n",
              "       [0.11312252],\n",
              "       [0.11798554],\n",
              "       [0.10245443],\n",
              "       [0.10393115],\n",
              "       [0.1228231 ],\n",
              "       [0.11925858],\n",
              "       [0.12389245],\n",
              "       [0.12654038],\n",
              "       [0.14675629],\n",
              "       [0.15403809],\n",
              "       [0.16488441],\n",
              "       [0.16895814],\n",
              "       [0.14543233],\n",
              "       [0.1331602 ],\n",
              "       [0.11826561],\n",
              "       [0.1373867 ],\n",
              "       [0.14517772],\n",
              "       [0.12842448],\n",
              "       [0.13277829],\n",
              "       [0.14451573],\n",
              "       [0.13422955],\n",
              "       [0.12435075],\n",
              "       [0.13636827],\n",
              "       [0.13356757],\n",
              "       [0.12363784],\n",
              "       [0.14069661],\n",
              "       [0.16182911],\n",
              "       [0.16967105],\n",
              "       [0.16513902],\n",
              "       [0.15111009],\n",
              "       [0.15113555],\n",
              "       [0.15772991],\n",
              "       [0.16177819],\n",
              "       [0.16918729],\n",
              "       [0.1857623 ],\n",
              "       [0.19951115],\n",
              "       [0.21326001],\n",
              "       [0.24381302],\n",
              "       [0.24584988],\n",
              "       [0.22637234],\n",
              "       [0.23057338],\n",
              "       [0.25      ],\n",
              "       [0.23347591],\n",
              "       [0.22700886],\n",
              "       [0.14403198],\n",
              "       [0.1723699 ],\n",
              "       [0.16600468],\n",
              "       [0.16811793],\n",
              "       [0.182707  ],\n",
              "       [0.16577554],\n",
              "       [0.13102149],\n",
              "       [0.18362359],\n",
              "       [0.21320908],\n",
              "       [0.27080151],\n",
              "       [0.27072512],\n",
              "       [0.2628068 ],\n",
              "       [0.27357674],\n",
              "       [0.29435279],\n",
              "       [0.32223241],\n",
              "       [0.33778898],\n",
              "       [0.36602505],\n",
              "       [0.42713107],\n",
              "       [0.41409512],\n",
              "       [0.43476932],\n",
              "       [0.41134535],\n",
              "       [0.42193706],\n",
              "       [0.42814951]])"
            ]
          },
          "metadata": {},
          "execution_count": 216
        }
      ],
      "source": [
        "train_data"
      ]
    },
    {
      "cell_type": "code",
      "execution_count": 217,
      "id": "120398c6",
      "metadata": {
        "id": "120398c6"
      },
      "outputs": [],
      "source": [
        "import numpy\n",
        "def create_dataset(dataset, time_step=1):\n",
        "\tdataX, dataY = [], []\n",
        "\tfor i in range(len(dataset)-time_step-1):\n",
        "\t\ta = dataset[i:(i+time_step), 0]\n",
        "\t\tdataX.append(a)\n",
        "\t\tdataY.append(dataset[i + time_step, 0])\n",
        "\treturn numpy.array(dataX), numpy.array(dataY)"
      ]
    },
    {
      "cell_type": "code",
      "execution_count": 218,
      "id": "265c2f05",
      "metadata": {
        "id": "265c2f05"
      },
      "outputs": [],
      "source": [
        "time_step = 50\n",
        "X_train, y_train = create_dataset(train_data, time_step)\n",
        "X_test, ytest = create_dataset(test_data, time_step)"
      ]
    },
    {
      "cell_type": "code",
      "execution_count": 219,
      "id": "375c5011",
      "metadata": {
        "scrolled": true,
        "colab": {
          "base_uri": "https://localhost:8080/"
        },
        "id": "375c5011",
        "outputId": "150e52fc-e25a-4594-8752-581a41e7beec"
      },
      "outputs": [
        {
          "output_type": "stream",
          "name": "stdout",
          "text": [
            "(69, 50)\n",
            "(69,)\n"
          ]
        },
        {
          "output_type": "execute_result",
          "data": {
            "text/plain": [
              "(None, None)"
            ]
          },
          "metadata": {},
          "execution_count": 219
        }
      ],
      "source": [
        "print(X_train.shape), print(y_train.shape)"
      ]
    },
    {
      "cell_type": "code",
      "execution_count": 220,
      "id": "3e317d8d",
      "metadata": {
        "colab": {
          "base_uri": "https://localhost:8080/"
        },
        "id": "3e317d8d",
        "outputId": "52fb26d9-b8ee-42f6-9df7-dabd66ca0dbe"
      },
      "outputs": [
        {
          "output_type": "stream",
          "name": "stdout",
          "text": [
            "(14, 50)\n",
            "(14,)\n"
          ]
        },
        {
          "output_type": "execute_result",
          "data": {
            "text/plain": [
              "(None, None)"
            ]
          },
          "metadata": {},
          "execution_count": 220
        }
      ],
      "source": [
        "print(X_test.shape), print(ytest.shape)"
      ]
    },
    {
      "cell_type": "code",
      "execution_count": 221,
      "id": "7bb3bbd4",
      "metadata": {
        "id": "7bb3bbd4"
      },
      "outputs": [],
      "source": [
        "X_train =X_train.reshape(X_train.shape[0],X_train.shape[1] , 1)\n",
        "X_test = X_test.reshape(X_test.shape[0],X_test.shape[1] , 1)"
      ]
    },
    {
      "cell_type": "code",
      "execution_count": 222,
      "id": "413e85b9",
      "metadata": {
        "id": "413e85b9"
      },
      "outputs": [],
      "source": [
        "from tensorflow.keras.models import Sequential\n",
        "from tensorflow.keras.layers import Dense\n",
        "from tensorflow.keras.layers import LSTM"
      ]
    },
    {
      "cell_type": "code",
      "execution_count": 223,
      "id": "8c2fe530",
      "metadata": {
        "colab": {
          "base_uri": "https://localhost:8080/"
        },
        "id": "8c2fe530",
        "outputId": "02c9e37d-de28-4e43-b789-4ca24e6e9020"
      },
      "outputs": [
        {
          "output_type": "stream",
          "name": "stdout",
          "text": [
            "Model: \"sequential_18\"\n",
            "_________________________________________________________________\n",
            " Layer (type)                Output Shape              Param #   \n",
            "=================================================================\n",
            " lstm_51 (LSTM)              (None, 50, 50)            10400     \n",
            "                                                                 \n",
            " lstm_52 (LSTM)              (None, 50, 50)            20200     \n",
            "                                                                 \n",
            " lstm_53 (LSTM)              (None, 50)                20200     \n",
            "                                                                 \n",
            " dense_28 (Dense)            (None, 1)                 51        \n",
            "                                                                 \n",
            " dense_29 (Dense)            (None, 1)                 2         \n",
            "                                                                 \n",
            "=================================================================\n",
            "Total params: 50,853\n",
            "Trainable params: 50,853\n",
            "Non-trainable params: 0\n",
            "_________________________________________________________________\n"
          ]
        }
      ],
      "source": [
        "model = Sequential()\n",
        "model.add(LSTM(50, return_sequences=True, input_shape=(50, 1), activation='sigmoid'))\n",
        "model.add(LSTM(50, return_sequences=True, activation='sigmoid'))\n",
        "model.add(LSTM(50, activation='sigmoid'))\n",
        "model.add(Dense(1))\n",
        "model.add(Dense(1))\n",
        "model.compile(loss='mean_squared_error',optimizer='adam')\n",
        "\n",
        "model.summary()"
      ]
    },
    {
      "cell_type": "code",
      "execution_count": 224,
      "id": "ebd84119",
      "metadata": {
        "colab": {
          "base_uri": "https://localhost:8080/"
        },
        "id": "ebd84119",
        "outputId": "14119e92-4e18-406d-c06a-0231f7469732"
      },
      "outputs": [
        {
          "output_type": "stream",
          "name": "stdout",
          "text": [
            "Epoch 1/50\n",
            "2/2 [==============================] - 6s 590ms/step - loss: 0.4728 - val_loss: 0.1749\n",
            "Epoch 2/50\n",
            "2/2 [==============================] - 0s 119ms/step - loss: 0.2710 - val_loss: 0.0671\n",
            "Epoch 3/50\n",
            "2/2 [==============================] - 0s 108ms/step - loss: 0.1311 - val_loss: 0.0135\n",
            "Epoch 4/50\n",
            "2/2 [==============================] - 0s 120ms/step - loss: 0.0469 - val_loss: 0.0060\n",
            "Epoch 5/50\n",
            "2/2 [==============================] - 0s 112ms/step - loss: 0.0112 - val_loss: 0.0316\n",
            "Epoch 6/50\n",
            "2/2 [==============================] - 0s 107ms/step - loss: 0.0119 - val_loss: 0.0676\n",
            "Epoch 7/50\n",
            "2/2 [==============================] - 0s 107ms/step - loss: 0.0299 - val_loss: 0.0909\n",
            "Epoch 8/50\n",
            "2/2 [==============================] - 0s 120ms/step - loss: 0.0438 - val_loss: 0.0934\n",
            "Epoch 9/50\n",
            "2/2 [==============================] - 0s 110ms/step - loss: 0.0451 - val_loss: 0.0813\n",
            "Epoch 10/50\n",
            "2/2 [==============================] - 0s 108ms/step - loss: 0.0371 - val_loss: 0.0619\n",
            "Epoch 11/50\n",
            "2/2 [==============================] - 0s 116ms/step - loss: 0.0257 - val_loss: 0.0421\n",
            "Epoch 12/50\n",
            "2/2 [==============================] - 0s 112ms/step - loss: 0.0155 - val_loss: 0.0265\n",
            "Epoch 13/50\n",
            "2/2 [==============================] - 0s 109ms/step - loss: 0.0094 - val_loss: 0.0157\n",
            "Epoch 14/50\n",
            "2/2 [==============================] - 0s 109ms/step - loss: 0.0076 - val_loss: 0.0093\n",
            "Epoch 15/50\n",
            "2/2 [==============================] - 0s 111ms/step - loss: 0.0087 - val_loss: 0.0062\n",
            "Epoch 16/50\n",
            "2/2 [==============================] - 0s 117ms/step - loss: 0.0112 - val_loss: 0.0051\n",
            "Epoch 17/50\n",
            "2/2 [==============================] - 0s 108ms/step - loss: 0.0129 - val_loss: 0.0048\n",
            "Epoch 18/50\n",
            "2/2 [==============================] - 0s 111ms/step - loss: 0.0135 - val_loss: 0.0050\n",
            "Epoch 19/50\n",
            "2/2 [==============================] - 0s 111ms/step - loss: 0.0131 - val_loss: 0.0055\n",
            "Epoch 20/50\n",
            "2/2 [==============================] - 0s 114ms/step - loss: 0.0120 - val_loss: 0.0065\n",
            "Epoch 21/50\n",
            "2/2 [==============================] - 0s 107ms/step - loss: 0.0106 - val_loss: 0.0084\n",
            "Epoch 22/50\n",
            "2/2 [==============================] - 0s 119ms/step - loss: 0.0091 - val_loss: 0.0110\n",
            "Epoch 23/50\n",
            "2/2 [==============================] - 0s 182ms/step - loss: 0.0081 - val_loss: 0.0141\n",
            "Epoch 24/50\n",
            "2/2 [==============================] - 0s 132ms/step - loss: 0.0076 - val_loss: 0.0170\n",
            "Epoch 25/50\n",
            "2/2 [==============================] - 0s 107ms/step - loss: 0.0077 - val_loss: 0.0196\n",
            "Epoch 26/50\n",
            "2/2 [==============================] - 0s 115ms/step - loss: 0.0080 - val_loss: 0.0217\n",
            "Epoch 27/50\n",
            "2/2 [==============================] - 0s 137ms/step - loss: 0.0084 - val_loss: 0.0229\n",
            "Epoch 28/50\n",
            "2/2 [==============================] - 0s 112ms/step - loss: 0.0087 - val_loss: 0.0229\n",
            "Epoch 29/50\n",
            "2/2 [==============================] - 0s 112ms/step - loss: 0.0087 - val_loss: 0.0221\n",
            "Epoch 30/50\n",
            "2/2 [==============================] - 0s 108ms/step - loss: 0.0085 - val_loss: 0.0204\n",
            "Epoch 31/50\n",
            "2/2 [==============================] - 0s 110ms/step - loss: 0.0081 - val_loss: 0.0186\n",
            "Epoch 32/50\n",
            "2/2 [==============================] - 0s 122ms/step - loss: 0.0079 - val_loss: 0.0169\n",
            "Epoch 33/50\n",
            "2/2 [==============================] - 0s 130ms/step - loss: 0.0077 - val_loss: 0.0155\n",
            "Epoch 34/50\n",
            "2/2 [==============================] - 0s 130ms/step - loss: 0.0077 - val_loss: 0.0144\n",
            "Epoch 35/50\n",
            "2/2 [==============================] - 0s 131ms/step - loss: 0.0076 - val_loss: 0.0139\n",
            "Epoch 36/50\n",
            "2/2 [==============================] - 0s 171ms/step - loss: 0.0076 - val_loss: 0.0135\n",
            "Epoch 37/50\n",
            "2/2 [==============================] - 0s 173ms/step - loss: 0.0077 - val_loss: 0.0132\n",
            "Epoch 38/50\n",
            "2/2 [==============================] - 0s 177ms/step - loss: 0.0077 - val_loss: 0.0133\n",
            "Epoch 39/50\n",
            "2/2 [==============================] - 0s 218ms/step - loss: 0.0077 - val_loss: 0.0139\n",
            "Epoch 40/50\n",
            "2/2 [==============================] - 0s 176ms/step - loss: 0.0076 - val_loss: 0.0147\n",
            "Epoch 41/50\n",
            "2/2 [==============================] - 0s 213ms/step - loss: 0.0076 - val_loss: 0.0153\n",
            "Epoch 42/50\n",
            "2/2 [==============================] - 0s 209ms/step - loss: 0.0076 - val_loss: 0.0157\n",
            "Epoch 43/50\n",
            "2/2 [==============================] - 0s 198ms/step - loss: 0.0076 - val_loss: 0.0156\n",
            "Epoch 44/50\n",
            "2/2 [==============================] - 0s 113ms/step - loss: 0.0076 - val_loss: 0.0155\n",
            "Epoch 45/50\n",
            "2/2 [==============================] - 0s 119ms/step - loss: 0.0076 - val_loss: 0.0160\n",
            "Epoch 46/50\n",
            "2/2 [==============================] - 0s 113ms/step - loss: 0.0077 - val_loss: 0.0159\n",
            "Epoch 47/50\n",
            "2/2 [==============================] - 0s 108ms/step - loss: 0.0076 - val_loss: 0.0147\n",
            "Epoch 48/50\n",
            "2/2 [==============================] - 0s 107ms/step - loss: 0.0076 - val_loss: 0.0132\n",
            "Epoch 49/50\n",
            "2/2 [==============================] - 0s 108ms/step - loss: 0.0077 - val_loss: 0.0121\n",
            "Epoch 50/50\n",
            "2/2 [==============================] - 0s 117ms/step - loss: 0.0078 - val_loss: 0.0117\n"
          ]
        }
      ],
      "source": [
        "history = model.fit(X_train,y_train,validation_data=(X_test,ytest),epochs=50,batch_size=64,verbose=1)"
      ]
    },
    {
      "cell_type": "code",
      "execution_count": 225,
      "id": "b2e91d4a",
      "metadata": {
        "colab": {
          "base_uri": "https://localhost:8080/"
        },
        "id": "b2e91d4a",
        "outputId": "bff988ce-6e24-40e8-92fc-7032d07b7525"
      },
      "outputs": [
        {
          "output_type": "stream",
          "name": "stdout",
          "text": [
            "3/3 [==============================] - 0s 19ms/step\n",
            "1/1 [==============================] - 0s 37ms/step\n"
          ]
        },
        {
          "output_type": "execute_result",
          "data": {
            "text/plain": [
              "array([[80.24791 ],\n",
              "       [80.24016 ],\n",
              "       [80.236824],\n",
              "       [80.23244 ],\n",
              "       [80.22822 ],\n",
              "       [80.22139 ],\n",
              "       [80.21746 ],\n",
              "       [80.223145],\n",
              "       [80.20993 ],\n",
              "       [80.20967 ],\n",
              "       [80.20721 ],\n",
              "       [80.20463 ],\n",
              "       [80.20096 ],\n",
              "       [80.199165]], dtype=float32)"
            ]
          },
          "metadata": {},
          "execution_count": 225
        }
      ],
      "source": [
        "train_predict=model.predict(X_train)\n",
        "test_predict=model.predict(X_test)\n",
        "\n",
        "train_predict=scaler.inverse_transform(train_predict)\n",
        "test_predict=scaler.inverse_transform(test_predict)\n",
        "\n",
        "test_predict"
      ]
    },
    {
      "cell_type": "code",
      "execution_count": 226,
      "id": "9df6cb75",
      "metadata": {
        "colab": {
          "base_uri": "https://localhost:8080/"
        },
        "id": "9df6cb75",
        "outputId": "0271d81f-c282-4cb6-9ea0-69d997733c2d"
      },
      "outputs": [
        {
          "output_type": "execute_result",
          "data": {
            "text/plain": [
              "80.01897379954126"
            ]
          },
          "metadata": {},
          "execution_count": 226
        }
      ],
      "source": [
        "import math\n",
        "from sklearn.metrics import mean_squared_error\n",
        "math.sqrt(mean_squared_error(y_train,train_predict))"
      ]
    },
    {
      "cell_type": "code",
      "source": [
        "import numpy as np\n",
        "import matplotlib.pyplot as plt\n"
      ],
      "metadata": {
        "id": "foQohfEDNTyL"
      },
      "id": "foQohfEDNTyL",
      "execution_count": 227,
      "outputs": []
    },
    {
      "cell_type": "code",
      "source": [
        "plt.plot(history.history['loss'])\n",
        "plt.plot(history.history['val_loss'])\n",
        "plt.title('Model Loss')\n",
        "plt.ylabel('Loss')\n",
        "plt.xlabel('Epoch')\n",
        "plt.legend(['Train', 'Validation'], loc='upper right')\n",
        "plt.show()\n"
      ],
      "metadata": {
        "colab": {
          "base_uri": "https://localhost:8080/",
          "height": 472
        },
        "id": "7fotZYBiQWw9",
        "outputId": "0a66ce6b-d6f0-436a-bdf5-1a6ee8c44269"
      },
      "id": "7fotZYBiQWw9",
      "execution_count": 228,
      "outputs": [
        {
          "output_type": "display_data",
          "data": {
            "text/plain": [
              "<Figure size 640x480 with 1 Axes>"
            ],
            "image/png": "[encoded data removed]"
          },
          "metadata": {}
        }
      ]
    },
    {
      "cell_type": "code",
      "source": [],
      "metadata": {
        "id": "vH_WyK88Ql7I"
      },
      "id": "vH_WyK88Ql7I",
      "execution_count": 228,
      "outputs": []
    }
  ],
  "metadata": {
    "kernelspec": {
      "display_name": "Python 3 (ipykernel)",
      "language": "python",
      "name": "python3"
    },
    "language_info": {
      "codemirror_mode": {
        "name": "ipython",
        "version": 3
      },
      "file_extension": ".py",
      "mimetype": "text/x-python",
      "name": "python",
      "nbconvert_exporter": "python",
      "pygments_lexer": "ipython3",
      "version": "3.9.13"
    },
    "colab": {
      "provenance": []
    }
  },
  "nbformat": 4,
  "nbformat_minor": 5
}